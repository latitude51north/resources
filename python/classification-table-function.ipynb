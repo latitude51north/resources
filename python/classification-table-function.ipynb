{
 "metadata": {
  "name": "classification table function"
 },
 "nbformat": 3,
 "nbformat_minor": 0,
 "worksheets": [
  {
   "cells": [
    {
     "cell_type": "code",
     "collapsed": false,
     "input": [
      "def classify(dftest,ctarget,cpred,codds): #(test dataframe, name of target variable column, name of event proababiliites column, name of odds column)\n",
      "          \n",
      "          netreturn=0.95 #Return net of commission\n",
      "          probs = np.linspace(0, 0.5, 26) #Probability thresholds\n",
      "          classification=DataFrame(probs.reshape(26,1),columns=['problevel']) #Create dataframe to hold classification table\n",
      "          classification=classification.join(DataFrame(np.zeros((26, 4),dtype=np.float64),columns=['truepos','trueneg','falsepos','falseneg'])) #Add classification\n",
      "          \n",
      "          #Iterate through dataframe rows and populate from test dataframe\n",
      "          for index, row in classification.iterrows():\n",
      "              #Correct Event (prob>=threshold and event=1)\n",
      "              classification.ix[index,'truepos']=dftest[(dftest[cpred]>=row['problevel']) & (dftest[ctarget]==1)].count()[ctarget]\n",
      "              #Correct Non-event(prob<threshold and event<>1)\n",
      "              classification.ix[index,'trueneg']=dftest[(dftest[cpred]<row['problevel']) & (dftest[ctarget]<>1)].count()[ctarget]\n",
      "              #Incorrect event(prob>=threshold and event <>1)\n",
      "              classification.ix[index,'falsepos']=dftest[(dftest[cpred]>=row['problevel']) & (dftest[ctarget]<>1)].count()[ctarget]\n",
      "              #Incorrect non-event (prob<threshold and event=1)\n",
      "              classification.ix[index,'falseneg']=dftest[(dftest[cpred]<row['problevel']) & (dftest[ctarget]==1)].count()[ctarget]\n",
      "              #Average Odds\n",
      "              classification.ix[index,'odds']=dftest[dftest[cpred]<row['problevel']].mean()[codds]\n",
      "              #Average Odds on false negative\n",
      "              classification.ix[index,'cost']=dftest[(dftest[cpred]<row['problevel']) & (dftest[ctarget]==1)].mean()[codds]\n",
      "              \n",
      "          #totals & percentages,\n",
      "          classification['totals']=classification.truepos+classification.trueneg+classification.falsepos+classification.falseneg\n",
      "          classification['accuracy']=(classification['truepos']+classification['trueneg'])/classification['totals']\n",
      "          classification['sensitivity']=classification['truepos']/(classification['truepos']+classification['falseneg'])\n",
      "          classification['specificity']=classification['trueneg']/(classification['trueneg']+classification['falsepos'])\n",
      "          classification['falsepos%']=classification['falsepos']/(classification['falsepos']+classification['truepos'])\n",
      "          classification['falseneg%']=classification['falseneg']/(classification['falseneg']+classification['trueneg'])\n",
      "          classification['precision']=classification['truepos']/(classification['truepos']+classification['falsepos'])\n",
      "          classification['f1score']=classification['truepos']*2/(classification['truepos']*2+classification['falsepos']+classification['falseneg'])\n",
      "          #Probability cost factor = expected loss/(expected loss+expected winnings net of commission)\n",
      "          classification['pcf']=(classification['problevel']*classification['cost'])/((classification['problevel']*classification['cost'])+((1-classification['problevel'])*netreturn))\n",
      "          classification.fillna(0, inplace=True) #Replace Nan with zeros\n",
      "          #Normalised expected cost\n",
      "          classification['normcost']=classification['falseneg%']*classification['pcf']+classification['falsepos%']*(1-classification['pcf'])\n",
      "          #Expected % return\n",
      "          classification['return']=(classification['trueneg']*netreturn-classification['cost']*classification['falseneg'])/(classification['trueneg']+classification['falseneg'])\n",
      "          \n",
      "          \n",
      "          return classification"
     ],
     "language": "python",
     "metadata": {},
     "outputs": [],
     "prompt_number": 3
    }
   ],
   "metadata": {}
  }
 ]
}